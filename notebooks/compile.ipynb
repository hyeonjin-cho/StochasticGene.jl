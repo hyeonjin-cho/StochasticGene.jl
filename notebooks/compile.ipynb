{
 "cells": [
  {
   "cell_type": "code",
   "execution_count": 1,
   "metadata": {},
   "outputs": [],
   "source": [
    "using PyPlot\n",
    "using StatsKit\n",
    "using DelimitedFiles\n",
    "using CSV\n",
    "using LinearAlgebra"
   ]
  },
  {
   "cell_type": "code",
   "execution_count": 2,
   "metadata": {},
   "outputs": [
    {
     "data": {
      "text/plain": [
       "\"/Users/carsonc/scrna/\""
      ]
     },
     "execution_count": 2,
     "metadata": {},
     "output_type": "execute_result"
    }
   ],
   "source": [
    "root = \"/Users/carsonc/scrna/\""
   ]
  },
  {
   "cell_type": "code",
   "execution_count": 3,
   "metadata": {},
   "outputs": [
    {
     "data": {
      "text/plain": [
       "\"/Users/carsonc/Box/scrna/data/HCT116_all_cells_histograms_and_half_lives_March_2021/T120_JQ1_NEw\""
      ]
     },
     "execution_count": 3,
     "metadata": {},
     "output_type": "execute_result"
    }
   ],
   "source": [
    "datafolder = \"/Users/carsonc/Box/scrna/data/HCT116_all_cells_histograms_and_half_lives_March_2021/T120_JQ1_NEw\""
   ]
  },
  {
   "cell_type": "code",
   "execution_count": 4,
   "metadata": {},
   "outputs": [
    {
     "data": {
      "text/plain": [
       "\"/Users/carsonc/scrna/Results/2021-08-22\""
      ]
     },
     "execution_count": 4,
     "metadata": {},
     "output_type": "execute_result"
    }
   ],
   "source": [
    "folder = \"2021-08-22\"\n",
    "folder = \"/Users/carsonc/scrna/Results/$folder\""
   ]
  },
  {
   "cell_type": "code",
   "execution_count": 5,
   "metadata": {},
   "outputs": [
    {
     "data": {
      "text/plain": [
       "\"3\""
      ]
     },
     "execution_count": 5,
     "metadata": {},
     "output_type": "execute_result"
    }
   ],
   "source": [
    "label = \"scRNA_T120JQ1_ss\"\n",
    "condition = \"JQ1\"\n",
    "G1 = \"2\"\n",
    "G2 = \"3\""
   ]
  },
  {
   "cell_type": "code",
   "execution_count": 6,
   "metadata": {},
   "outputs": [
    {
     "data": {
      "text/plain": [
       "Main.StochasticGene"
      ]
     },
     "execution_count": 6,
     "metadata": {},
     "output_type": "execute_result"
    }
   ],
   "source": [
    "include(\"/Users/carsonc/github/StochasticGene/src/StochasticGene.jl\")"
   ]
  },
  {
   "cell_type": "code",
   "execution_count": 9,
   "metadata": {},
   "outputs": [
    {
     "data": {
      "text/plain": [
       "add_best_occupancy (generic function with 1 method)"
      ]
     },
     "execution_count": 9,
     "metadata": {},
     "output_type": "execute_result"
    }
   ],
   "source": [
    "include(\"scriptfunctions.jl\")"
   ]
  },
  {
   "cell_type": "code",
   "execution_count": 10,
   "metadata": {},
   "outputs": [],
   "source": [
    "StochasticGene.assemble_all(folder,[label],[condition],[G1],\".csv\",true)"
   ]
  },
  {
   "cell_type": "code",
   "execution_count": 8,
   "metadata": {},
   "outputs": [],
   "source": [
    "StochasticGene.assemble_all(folder,[label],[condition],[G2],\".csv\",true)"
   ]
  },
  {
   "cell_type": "code",
   "execution_count": 28,
   "metadata": {},
   "outputs": [],
   "source": [
    "StochasticGene.write_residency_G(folder * \"/occupancy_$(label)_$(condition)_$G1.csv\",folder * \"/rates_$(label)_$(condition)_$G1.csv\",parse(Int,G1),true);"
   ]
  },
  {
   "cell_type": "code",
   "execution_count": 29,
   "metadata": {},
   "outputs": [],
   "source": [
    "StochasticGene.write_residency_G(folder * \"/occupancy_$(label)_$(condition)_$G2.csv\",folder * \"/rates_$(label)_$(condition)_$G2.csv\",parse(Int,G2),true);"
   ]
  },
  {
   "cell_type": "code",
   "execution_count": 30,
   "metadata": {},
   "outputs": [],
   "source": [
    "write_burst_stats(folder * \"/burst_$(label)_$(condition)_$G1.csv\",folder * \"/rates_$(label)_$(condition)_$G1.csv\",parse(Int,G1)-1,root)"
   ]
  },
  {
   "cell_type": "code",
   "execution_count": 31,
   "metadata": {},
   "outputs": [],
   "source": [
    "write_burst_stats(folder * \"/burst_$(label)_$(condition)_$G2.csv\",folder * \"/rates_$(label)_$(condition)_$G2.csv\",parse(Int,G2)-1,root)"
   ]
  },
  {
   "cell_type": "code",
   "execution_count": 32,
   "metadata": {},
   "outputs": [
    {
     "name": "stdout",
     "output_type": "stream",
     "text": [
      "AbstractString[\"Gene\" \"Deviance_G2\" \"LogMaxLikelihood_G2\" \"WAIC_G2\" \"SD_G2\" \"AIC_G2\" \"Acceptance_G2\" \"Temperature_G2\" \"Deviance_G3\" \"LogMaxLikelihood_G3\" \"WAIC_G3\" \"SD_G3\" \"AIC_G3\" \"Acceptance_G3\" \"Temperature_G3\"]\n"
     ]
    }
   ],
   "source": [
    "join_files(folder * \"/measures_$(label)_$(condition)_$G1.csv\",folder * \"/measures_$(label)_$(condition)_$G2.csv\",folder * \"/measures_$(label)_$(condition).csv\")"
   ]
  },
  {
   "cell_type": "code",
   "execution_count": 33,
   "metadata": {},
   "outputs": [],
   "source": [
    "best_model(folder * \"/measures_$(label)_$condition.csv\")"
   ]
  },
  {
   "cell_type": "code",
   "execution_count": 34,
   "metadata": {},
   "outputs": [
    {
     "name": "stdout",
     "output_type": "stream",
     "text": [
      "AbstractString[\"Gene\" \"Mean OFF Period (min)_G2\" \"Burst Size_G2\" \"Mean OFF Period (min)_G3\" \"Burst Size_G3\"]\n",
      "AbstractString[\"gene\" \"0_G2\" \"1_G2\" \"0_G3\" \"1_G3\" \"2_G3\"]\n"
     ]
    }
   ],
   "source": [
    "join_files(folder * \"/burst_$(label)_$(condition)_$G1.csv\",folder * \"/burst_$(label)_$(condition)_$G2.csv\",folder * \"/burst_$(label)_$condition.csv\")\n",
    "join_files(folder * \"/occupancy_$(label)_$(condition)_$G1.csv\",folder * \"/occupancy_$(label)_$(condition)_$G2.csv\",folder * \"/occupancy_$(label)_$condition.csv\")"
   ]
  },
  {
   "cell_type": "code",
   "execution_count": 82,
   "metadata": {},
   "outputs": [
    {
     "name": "stdout",
     "output_type": "stream",
     "text": [
      "AbstractString[\"Gene\" \"Deviance_G2\" \"LogMaxLikelihood_G2\" \"WAIC_G2\" \"SD_G2\" \"AIC_G2\" \"Acceptance_G2\" \"Temperature_G2\" \"Deviance_G3\" \"LogMaxLikelihood_G3\" \"WAIC_G3\" \"SD_G3\" \"AIC_G3\" \"Acceptance_G3\" \"Temperature_G3\" \"Winning Model\" \"0_G2\" \"1_G2\" \"0_G3\" \"1_G3\" \"2_G3\"]\n"
     ]
    }
   ],
   "source": [
    "join_files(folder * \"/measures_$(label)_$condition.csv\",folder * \"/occupancy_$(label)_$(condition).csv\",folder * \"/measures_$(label)_$(condition)_all.csv\",false)"
   ]
  },
  {
   "cell_type": "code",
   "execution_count": 83,
   "metadata": {},
   "outputs": [
    {
     "name": "stdout",
     "output_type": "stream",
     "text": [
      "AbstractString[\"Gene\" \"Deviance_G2\" \"LogMaxLikelihood_G2\" \"WAIC_G2\" \"SD_G2\" \"AIC_G2\" \"Acceptance_G2\" \"Temperature_G2\" \"Deviance_G3\" \"LogMaxLikelihood_G3\" \"WAIC_G3\" \"SD_G3\" \"AIC_G3\" \"Acceptance_G3\" \"Temperature_G3\" \"Winning Model\" \"0_G2\" \"1_G2\" \"0_G3\" \"1_G3\" \"2_G3\" \"Mean OFF Period (min)_G2\" \"Burst Size_G2\" \"Mean OFF Period (min)_G3\" \"Burst Size_G3\"]\n"
     ]
    }
   ],
   "source": [
    "join_files(folder * \"/measures_$(label)_$(condition)_all.csv\",folder * \"/burst_$(label)_$condition.csv\",folder * \"/measures_$(label)_$(condition)_all.csv\",false)"
   ]
  },
  {
   "cell_type": "code",
   "execution_count": 74,
   "metadata": {},
   "outputs": [],
   "source": [
    "write_moments(folder * \"/moments_$(label)_$condition.csv\",folder * \"/measures_$(label)_$condition.csv\",condition,datafolder,root)"
   ]
  },
  {
   "cell_type": "code",
   "execution_count": 84,
   "metadata": {},
   "outputs": [
    {
     "name": "stdout",
     "output_type": "stream",
     "text": [
      "AbstractString[\"Gene\" \"Deviance_G2\" \"LogMaxLikelihood_G2\" \"WAIC_G2\" \"SD_G2\" \"AIC_G2\" \"Acceptance_G2\" \"Temperature_G2\" \"Deviance_G3\" \"LogMaxLikelihood_G3\" \"WAIC_G3\" \"SD_G3\" \"AIC_G3\" \"Acceptance_G3\" \"Temperature_G3\" \"Winning Model\" \"0_G2\" \"1_G2\" \"0_G3\" \"1_G3\" \"2_G3\" \"Mean OFF Period (min)_G2\" \"Burst Size_G2\" \"Mean OFF Period (min)_G3\" \"Burst Size_G3\" \"Expression Mean\" \"Expression Variance\"]\n"
     ]
    }
   ],
   "source": [
    "join_files(folder * \"/measures_$(label)_$(condition)_all.csv\",folder * \"/moments_$(label)_$condition.csv\",folder * \"/measures_$(label)_$(condition)_all.csv\",false)"
   ]
  },
  {
   "cell_type": "code",
   "execution_count": null,
   "metadata": {},
   "outputs": [],
   "source": []
  }
 ],
 "metadata": {
  "kernelspec": {
   "display_name": "Julia 1.6.0",
   "language": "julia",
   "name": "julia-1.6"
  },
  "language_info": {
   "file_extension": ".jl",
   "mimetype": "application/julia",
   "name": "julia",
   "version": "1.6.0"
  }
 },
 "nbformat": 4,
 "nbformat_minor": 4
}
